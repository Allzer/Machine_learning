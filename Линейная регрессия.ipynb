{
  "cells": [
    {
      "cell_type": "markdown",
      "metadata": {
        "id": "view-in-github",
        "colab_type": "text"
      },
      "source": [
        "<a href=\"https://colab.research.google.com/github/Allzer/linear_regression/blob/main/%D0%9B%D0%B8%D0%BD%D0%B5%D0%B9%D0%BD%D0%B0%D1%8F%20%D1%80%D0%B5%D0%B3%D1%80%D0%B5%D1%81%D1%81%D0%B8%D1%8F.ipynb\" target=\"_parent\"><img src=\"https://colab.research.google.com/assets/colab-badge.svg\" alt=\"Open In Colab\"/></a>"
      ]
    },
    {
      "cell_type": "code",
      "execution_count": 1,
      "metadata": {
        "id": "z5_VFcueVzOC"
      },
      "outputs": [],
      "source": [
        "import numpy as np\n",
        "import pandas as pd\n",
        "import matplotlib.pyplot as plt\n",
        "\n",
        "from sklearn.linear_model import LinearRegression\n",
        "from sklearn.model_selection import train_test_split #разбивает данные для тестирования и тренировки\n",
        "\n",
        "import seaborn as sns\n",
        "from statsmodels.stats.outliers_influence import variance_inflation_factor\n",
        "import statsmodels.api as sm #линейная регрессия, но с большим кол-вом статистических параметров"
      ]
    },
    {
      "cell_type": "code",
      "execution_count": 52,
      "metadata": {
        "id": "HLqjJqs_Umlu",
        "colab": {
          "base_uri": "https://localhost:8080/",
          "height": 487
        },
        "outputId": "5f224665-8e86-43f7-9f02-a76c5ff2bf6b"
      },
      "outputs": [
        {
          "output_type": "execute_result",
          "data": {
            "text/plain": [
              "     Number  obrM  obrP  timePoezdk  timeYcheb  Otin_in_family  freeTime  \\\n",
              "0         0     4     4           2          2               4         3   \n",
              "1         1     1     1           1          2               5         3   \n",
              "2         2     1     1           1          2               4         3   \n",
              "3         3     4     2           1          3               3         2   \n",
              "4         4     3     3           1          2               4         3   \n",
              "..      ...   ...   ...         ...        ...             ...       ...   \n",
              "390     390     2     2           1          2               5         5   \n",
              "391     391     3     1           2          1               2         4   \n",
              "392     392     1     1           1          1               5         5   \n",
              "393     393     3     2           3          1               4         4   \n",
              "394     394     1     1           1          1               3         2   \n",
              "\n",
              "     friendTime  workDay_alko  freeDay_walk  zdorov  propusk  ex1  ex2  ex3  \n",
              "0             4             1             1       3        6    5    6    6  \n",
              "1             3             1             1       3        4    5    5    6  \n",
              "2             2             2             3       3       10    7    8   10  \n",
              "3             2             1             1       5        2   15   14   15  \n",
              "4             2             1             2       5        4    6   10   10  \n",
              "..          ...           ...           ...     ...      ...  ...  ...  ...  \n",
              "390           4             4             5       4       11    9    9    9  \n",
              "391           5             3             4       2        3   14   16   16  \n",
              "392           3             3             3       3        3   10    8    7  \n",
              "393           1             3             4       5        0   11   12   10  \n",
              "394           3             3             3       5        5    8    9    9  \n",
              "\n",
              "[395 rows x 15 columns]"
            ],
            "text/html": [
              "\n",
              "  <div id=\"df-b0a910f5-605d-476d-ab6b-1c7298ba0dbf\">\n",
              "    <div class=\"colab-df-container\">\n",
              "      <div>\n",
              "<style scoped>\n",
              "    .dataframe tbody tr th:only-of-type {\n",
              "        vertical-align: middle;\n",
              "    }\n",
              "\n",
              "    .dataframe tbody tr th {\n",
              "        vertical-align: top;\n",
              "    }\n",
              "\n",
              "    .dataframe thead th {\n",
              "        text-align: right;\n",
              "    }\n",
              "</style>\n",
              "<table border=\"1\" class=\"dataframe\">\n",
              "  <thead>\n",
              "    <tr style=\"text-align: right;\">\n",
              "      <th></th>\n",
              "      <th>Number</th>\n",
              "      <th>obrM</th>\n",
              "      <th>obrP</th>\n",
              "      <th>timePoezdk</th>\n",
              "      <th>timeYcheb</th>\n",
              "      <th>Otin_in_family</th>\n",
              "      <th>freeTime</th>\n",
              "      <th>friendTime</th>\n",
              "      <th>workDay_alko</th>\n",
              "      <th>freeDay_walk</th>\n",
              "      <th>zdorov</th>\n",
              "      <th>propusk</th>\n",
              "      <th>ex1</th>\n",
              "      <th>ex2</th>\n",
              "      <th>ex3</th>\n",
              "    </tr>\n",
              "  </thead>\n",
              "  <tbody>\n",
              "    <tr>\n",
              "      <th>0</th>\n",
              "      <td>0</td>\n",
              "      <td>4</td>\n",
              "      <td>4</td>\n",
              "      <td>2</td>\n",
              "      <td>2</td>\n",
              "      <td>4</td>\n",
              "      <td>3</td>\n",
              "      <td>4</td>\n",
              "      <td>1</td>\n",
              "      <td>1</td>\n",
              "      <td>3</td>\n",
              "      <td>6</td>\n",
              "      <td>5</td>\n",
              "      <td>6</td>\n",
              "      <td>6</td>\n",
              "    </tr>\n",
              "    <tr>\n",
              "      <th>1</th>\n",
              "      <td>1</td>\n",
              "      <td>1</td>\n",
              "      <td>1</td>\n",
              "      <td>1</td>\n",
              "      <td>2</td>\n",
              "      <td>5</td>\n",
              "      <td>3</td>\n",
              "      <td>3</td>\n",
              "      <td>1</td>\n",
              "      <td>1</td>\n",
              "      <td>3</td>\n",
              "      <td>4</td>\n",
              "      <td>5</td>\n",
              "      <td>5</td>\n",
              "      <td>6</td>\n",
              "    </tr>\n",
              "    <tr>\n",
              "      <th>2</th>\n",
              "      <td>2</td>\n",
              "      <td>1</td>\n",
              "      <td>1</td>\n",
              "      <td>1</td>\n",
              "      <td>2</td>\n",
              "      <td>4</td>\n",
              "      <td>3</td>\n",
              "      <td>2</td>\n",
              "      <td>2</td>\n",
              "      <td>3</td>\n",
              "      <td>3</td>\n",
              "      <td>10</td>\n",
              "      <td>7</td>\n",
              "      <td>8</td>\n",
              "      <td>10</td>\n",
              "    </tr>\n",
              "    <tr>\n",
              "      <th>3</th>\n",
              "      <td>3</td>\n",
              "      <td>4</td>\n",
              "      <td>2</td>\n",
              "      <td>1</td>\n",
              "      <td>3</td>\n",
              "      <td>3</td>\n",
              "      <td>2</td>\n",
              "      <td>2</td>\n",
              "      <td>1</td>\n",
              "      <td>1</td>\n",
              "      <td>5</td>\n",
              "      <td>2</td>\n",
              "      <td>15</td>\n",
              "      <td>14</td>\n",
              "      <td>15</td>\n",
              "    </tr>\n",
              "    <tr>\n",
              "      <th>4</th>\n",
              "      <td>4</td>\n",
              "      <td>3</td>\n",
              "      <td>3</td>\n",
              "      <td>1</td>\n",
              "      <td>2</td>\n",
              "      <td>4</td>\n",
              "      <td>3</td>\n",
              "      <td>2</td>\n",
              "      <td>1</td>\n",
              "      <td>2</td>\n",
              "      <td>5</td>\n",
              "      <td>4</td>\n",
              "      <td>6</td>\n",
              "      <td>10</td>\n",
              "      <td>10</td>\n",
              "    </tr>\n",
              "    <tr>\n",
              "      <th>...</th>\n",
              "      <td>...</td>\n",
              "      <td>...</td>\n",
              "      <td>...</td>\n",
              "      <td>...</td>\n",
              "      <td>...</td>\n",
              "      <td>...</td>\n",
              "      <td>...</td>\n",
              "      <td>...</td>\n",
              "      <td>...</td>\n",
              "      <td>...</td>\n",
              "      <td>...</td>\n",
              "      <td>...</td>\n",
              "      <td>...</td>\n",
              "      <td>...</td>\n",
              "      <td>...</td>\n",
              "    </tr>\n",
              "    <tr>\n",
              "      <th>390</th>\n",
              "      <td>390</td>\n",
              "      <td>2</td>\n",
              "      <td>2</td>\n",
              "      <td>1</td>\n",
              "      <td>2</td>\n",
              "      <td>5</td>\n",
              "      <td>5</td>\n",
              "      <td>4</td>\n",
              "      <td>4</td>\n",
              "      <td>5</td>\n",
              "      <td>4</td>\n",
              "      <td>11</td>\n",
              "      <td>9</td>\n",
              "      <td>9</td>\n",
              "      <td>9</td>\n",
              "    </tr>\n",
              "    <tr>\n",
              "      <th>391</th>\n",
              "      <td>391</td>\n",
              "      <td>3</td>\n",
              "      <td>1</td>\n",
              "      <td>2</td>\n",
              "      <td>1</td>\n",
              "      <td>2</td>\n",
              "      <td>4</td>\n",
              "      <td>5</td>\n",
              "      <td>3</td>\n",
              "      <td>4</td>\n",
              "      <td>2</td>\n",
              "      <td>3</td>\n",
              "      <td>14</td>\n",
              "      <td>16</td>\n",
              "      <td>16</td>\n",
              "    </tr>\n",
              "    <tr>\n",
              "      <th>392</th>\n",
              "      <td>392</td>\n",
              "      <td>1</td>\n",
              "      <td>1</td>\n",
              "      <td>1</td>\n",
              "      <td>1</td>\n",
              "      <td>5</td>\n",
              "      <td>5</td>\n",
              "      <td>3</td>\n",
              "      <td>3</td>\n",
              "      <td>3</td>\n",
              "      <td>3</td>\n",
              "      <td>3</td>\n",
              "      <td>10</td>\n",
              "      <td>8</td>\n",
              "      <td>7</td>\n",
              "    </tr>\n",
              "    <tr>\n",
              "      <th>393</th>\n",
              "      <td>393</td>\n",
              "      <td>3</td>\n",
              "      <td>2</td>\n",
              "      <td>3</td>\n",
              "      <td>1</td>\n",
              "      <td>4</td>\n",
              "      <td>4</td>\n",
              "      <td>1</td>\n",
              "      <td>3</td>\n",
              "      <td>4</td>\n",
              "      <td>5</td>\n",
              "      <td>0</td>\n",
              "      <td>11</td>\n",
              "      <td>12</td>\n",
              "      <td>10</td>\n",
              "    </tr>\n",
              "    <tr>\n",
              "      <th>394</th>\n",
              "      <td>394</td>\n",
              "      <td>1</td>\n",
              "      <td>1</td>\n",
              "      <td>1</td>\n",
              "      <td>1</td>\n",
              "      <td>3</td>\n",
              "      <td>2</td>\n",
              "      <td>3</td>\n",
              "      <td>3</td>\n",
              "      <td>3</td>\n",
              "      <td>5</td>\n",
              "      <td>5</td>\n",
              "      <td>8</td>\n",
              "      <td>9</td>\n",
              "      <td>9</td>\n",
              "    </tr>\n",
              "  </tbody>\n",
              "</table>\n",
              "<p>395 rows × 15 columns</p>\n",
              "</div>\n",
              "      <button class=\"colab-df-convert\" onclick=\"convertToInteractive('df-b0a910f5-605d-476d-ab6b-1c7298ba0dbf')\"\n",
              "              title=\"Convert this dataframe to an interactive table.\"\n",
              "              style=\"display:none;\">\n",
              "        \n",
              "  <svg xmlns=\"http://www.w3.org/2000/svg\" height=\"24px\"viewBox=\"0 0 24 24\"\n",
              "       width=\"24px\">\n",
              "    <path d=\"M0 0h24v24H0V0z\" fill=\"none\"/>\n",
              "    <path d=\"M18.56 5.44l.94 2.06.94-2.06 2.06-.94-2.06-.94-.94-2.06-.94 2.06-2.06.94zm-11 1L8.5 8.5l.94-2.06 2.06-.94-2.06-.94L8.5 2.5l-.94 2.06-2.06.94zm10 10l.94 2.06.94-2.06 2.06-.94-2.06-.94-.94-2.06-.94 2.06-2.06.94z\"/><path d=\"M17.41 7.96l-1.37-1.37c-.4-.4-.92-.59-1.43-.59-.52 0-1.04.2-1.43.59L10.3 9.45l-7.72 7.72c-.78.78-.78 2.05 0 2.83L4 21.41c.39.39.9.59 1.41.59.51 0 1.02-.2 1.41-.59l7.78-7.78 2.81-2.81c.8-.78.8-2.07 0-2.86zM5.41 20L4 18.59l7.72-7.72 1.47 1.35L5.41 20z\"/>\n",
              "  </svg>\n",
              "      </button>\n",
              "      \n",
              "  <style>\n",
              "    .colab-df-container {\n",
              "      display:flex;\n",
              "      flex-wrap:wrap;\n",
              "      gap: 12px;\n",
              "    }\n",
              "\n",
              "    .colab-df-convert {\n",
              "      background-color: #E8F0FE;\n",
              "      border: none;\n",
              "      border-radius: 50%;\n",
              "      cursor: pointer;\n",
              "      display: none;\n",
              "      fill: #1967D2;\n",
              "      height: 32px;\n",
              "      padding: 0 0 0 0;\n",
              "      width: 32px;\n",
              "    }\n",
              "\n",
              "    .colab-df-convert:hover {\n",
              "      background-color: #E2EBFA;\n",
              "      box-shadow: 0px 1px 2px rgba(60, 64, 67, 0.3), 0px 1px 3px 1px rgba(60, 64, 67, 0.15);\n",
              "      fill: #174EA6;\n",
              "    }\n",
              "\n",
              "    [theme=dark] .colab-df-convert {\n",
              "      background-color: #3B4455;\n",
              "      fill: #D2E3FC;\n",
              "    }\n",
              "\n",
              "    [theme=dark] .colab-df-convert:hover {\n",
              "      background-color: #434B5C;\n",
              "      box-shadow: 0px 1px 3px 1px rgba(0, 0, 0, 0.15);\n",
              "      filter: drop-shadow(0px 1px 2px rgba(0, 0, 0, 0.3));\n",
              "      fill: #FFFFFF;\n",
              "    }\n",
              "  </style>\n",
              "\n",
              "      <script>\n",
              "        const buttonEl =\n",
              "          document.querySelector('#df-b0a910f5-605d-476d-ab6b-1c7298ba0dbf button.colab-df-convert');\n",
              "        buttonEl.style.display =\n",
              "          google.colab.kernel.accessAllowed ? 'block' : 'none';\n",
              "\n",
              "        async function convertToInteractive(key) {\n",
              "          const element = document.querySelector('#df-b0a910f5-605d-476d-ab6b-1c7298ba0dbf');\n",
              "          const dataTable =\n",
              "            await google.colab.kernel.invokeFunction('convertToInteractive',\n",
              "                                                     [key], {});\n",
              "          if (!dataTable) return;\n",
              "\n",
              "          const docLinkHtml = 'Like what you see? Visit the ' +\n",
              "            '<a target=\"_blank\" href=https://colab.research.google.com/notebooks/data_table.ipynb>data table notebook</a>'\n",
              "            + ' to learn more about interactive tables.';\n",
              "          element.innerHTML = '';\n",
              "          dataTable['output_type'] = 'display_data';\n",
              "          await google.colab.output.renderOutput(dataTable, element);\n",
              "          const docLink = document.createElement('div');\n",
              "          docLink.innerHTML = docLinkHtml;\n",
              "          element.appendChild(docLink);\n",
              "        }\n",
              "      </script>\n",
              "    </div>\n",
              "  </div>\n",
              "  "
            ]
          },
          "metadata": {},
          "execution_count": 52
        }
      ],
      "source": [
        "f = pd.read_csv(\"student-mat-2.csv\", encoding=\"latin-1\", sep=\";\")\n",
        "f"
      ]
    },
    {
      "cell_type": "markdown",
      "metadata": {
        "id": "P2EPwtu_eJ5d"
      },
      "source": [
        "Раскидываем данные по массивам"
      ]
    },
    {
      "cell_type": "code",
      "execution_count": 3,
      "metadata": {
        "id": "RjjCoHoF6wzV"
      },
      "outputs": [],
      "source": [
        "obrM = f['obrM'][:]\n",
        "work_a = f['workDay_alko'][:]\n",
        "ex1 = f['ex1'][:]\n",
        "obrP = f['obrP'][:]\n",
        "timePoezdk = f['timePoezdk'][:] # f[''][]\n",
        "timeYcheb = f['timeYcheb'][:]\n",
        "Otin_in_family = f['Otin_in_family'][:]\n",
        "freeTime = f['freeTime'][:]\n",
        "friendTime = f['friendTime'][:]\n",
        "workDay_alko = f['workDay_alko'][:]\n",
        "freeDay_walk = f['freeDay_walk'][:]\n",
        "zdorov = f['zdorov'][:]\n",
        "propusk = f['propusk'][:]\n",
        "ex2 = f['ex2'][:]\n",
        "ex3 = f['ex3'][:]"
      ]
    },
    {
      "cell_type": "code",
      "execution_count": 4,
      "metadata": {
        "id": "-YfwyO8A8rNC"
      },
      "outputs": [],
      "source": [
        "obrM = np.array(obrM).reshape(-1,1).astype('int32')\n",
        "ex1 = np.array(ex1).reshape(-1,1).astype('int32') #np.array().reshape(-1,1).astype('int32')\n",
        "work_a = np.array(work_a).reshape(-1,1).astype('int32')\n",
        "obrP = np.array(obrP).reshape(-1,1).astype('int32')\n",
        "timePoezdk = np.array(timePoezdk).reshape(-1,1).astype('int32')\n",
        "timeYcheb = np.array(timeYcheb).reshape(-1,1).astype('int32')\n",
        "Otin_in_family = np.array(Otin_in_family).reshape(-1,1).astype('int32')\n",
        "freeTime = np.array(freeTime).reshape(-1,1).astype('int32')\n",
        "friendTime = np.array(friendTime).reshape(-1,1).astype('int32')\n",
        "workDay_alko = np.array(workDay_alko).reshape(-1,1).astype('int32')\n",
        "freeDay_walk = np.array(freeDay_walk).reshape(-1,1).astype('int32')\n",
        "zdorov = np.array(zdorov).reshape(-1,1).astype('int32')\n",
        "propusk = np.array(propusk).reshape(-1,1).astype('int32')\n",
        "ex2 = np.array(ex2).reshape(-1,1).astype('int32')\n",
        "ex3 = np.array(ex3).reshape(-1,1).astype('int32')"
      ]
    },
    {
      "cell_type": "code",
      "execution_count": 54,
      "metadata": {
        "id": "OwaY83Dz7oXs",
        "colab": {
          "base_uri": "https://localhost:8080/"
        },
        "outputId": "61bd624b-8412-452b-a36f-7e0482aa20db"
      },
      "outputs": [
        {
          "output_type": "execute_result",
          "data": {
            "text/plain": [
              "19"
            ]
          },
          "metadata": {},
          "execution_count": 54
        }
      ],
      "source": [
        "max_ex1 = np.max(ex1)\n",
        "max_ex1"
      ]
    },
    {
      "cell_type": "markdown",
      "metadata": {
        "id": "lO5xYXVufMGb"
      },
      "source": [
        "Визуализируем результаты экзаменов"
      ]
    },
    {
      "cell_type": "code",
      "execution_count": null,
      "metadata": {
        "id": "vExfUk4GfTUP"
      },
      "outputs": [],
      "source": [
        "plt.figure(figsize=(10,6))\n",
        "plt.hist(ex3, bins=50, ec='black',color='b')\n",
        "#plt.hist(ex2, bins=50, ec='black',color='g')\n",
        "#plt.hist(ex3, bins=50, ec='black',color='b')\n",
        "plt.xlabel('Оценка за экзамен')\n",
        "plt.ylabel('Кол-во учеников')\n",
        "plt.show()"
      ]
    },
    {
      "cell_type": "markdown",
      "metadata": {
        "id": "izMjEgPTidYA"
      },
      "source": [
        "Рассчитываем кореляцию"
      ]
    },
    {
      "cell_type": "code",
      "execution_count": 7,
      "metadata": {
        "colab": {
          "base_uri": "https://localhost:8080/"
        },
        "id": "RygDlLlXiOS_",
        "outputId": "58083840-ba04-4ac9-8e8e-a7547df3f36a"
      },
      "outputs": [
        {
          "output_type": "execute_result",
          "data": {
            "text/plain": [
              "0.19026993555786909"
            ]
          },
          "metadata": {},
          "execution_count": 7
        }
      ],
      "source": [
        "f['obrP'].corr(f['ex1'])\n",
        "#Кореляция - степень того, как 2 параметра изменяются вместе. Если corr = -1, то это значит, что, когда 1 параметр растёт, то второй\n",
        "#уменьшается. Если кореляция стремится к 0, то взаимосвязь очень плохая"
      ]
    },
    {
      "cell_type": "markdown",
      "metadata": {
        "id": "1NsQ2RJouphX"
      },
      "source": [
        "Кореляция всех параметров"
      ]
    },
    {
      "cell_type": "code",
      "execution_count": null,
      "metadata": {
        "id": "M1jirHCGtWKW"
      },
      "outputs": [],
      "source": [
        "f.corr()"
      ]
    },
    {
      "cell_type": "markdown",
      "metadata": {
        "id": "knH_EHmkutDp"
      },
      "source": [
        "Красивая визуализация кореляции"
      ]
    },
    {
      "cell_type": "code",
      "execution_count": null,
      "metadata": {
        "id": "HW4lY8ueuwDv"
      },
      "outputs": [],
      "source": [
        "plt.figure(figsize=(16,10))\n",
        "sns.heatmap(f.corr(), annot=True, annot_kws={\"size\": 14})\n",
        "sns.set_style('white')\n",
        "plt.xticks(fontsize=14)\n",
        "plt.yticks(fontsize=14)\n",
        "plt.show()"
      ]
    },
    {
      "cell_type": "markdown",
      "metadata": {
        "id": "q7j7dF7gxcQw"
      },
      "source": [
        "Визуализируем иначе"
      ]
    },
    {
      "cell_type": "code",
      "execution_count": null,
      "metadata": {
        "id": "RGNGE-iFxfU-"
      },
      "outputs": [],
      "source": [
        "rm_tgt_corr = round(f['freeTime'].corr(f['ex1']), 3)\n",
        "plt.figure(figsize=(9, 6))\n",
        "plt.scatter(x=f['freeTime'], y=f['ex1'], alpha=0.6, s=80, color='skyblue')\n",
        "plt.title(f'freeTime vs ex1 (Correlation {rm_tgt_corr})', fontsize=14)\n",
        "plt.xlabel('freeTime - Median nr of rooms', fontsize=14)\n",
        "plt.ylabel('ex1 - property price in 000s', fontsize=14)\n",
        "plt.show()"
      ]
    },
    {
      "cell_type": "markdown",
      "metadata": {
        "id": "EwX2TMXS7b7v"
      },
      "source": [
        "Показываем рост кореляции через прямую"
      ]
    },
    {
      "cell_type": "code",
      "execution_count": null,
      "metadata": {
        "id": "HmZJG8HCyDjw"
      },
      "outputs": [],
      "source": [
        "sns.lmplot(x='obrP', y='ex1', data=f)\n",
        "plt.show"
      ]
    },
    {
      "cell_type": "markdown",
      "metadata": {
        "id": "CL83jSJa75pW"
      },
      "source": [
        "Обучение модели. Множестенная линейная регрессия\n",
        "Чистим таблицу"
      ]
    },
    {
      "cell_type": "code",
      "execution_count": null,
      "metadata": {
        "id": "QPTeii8D8CMF"
      },
      "outputs": [],
      "source": [
        "ex_1=f['ex1']\n",
        "#ex_2=f['ex2']\n",
        "#ex_3=f['ex3']\n",
        "future=f.drop('ex1',axis=1) #удаляем столбец из таблицы, чтобы оставить только те данные на которых будет учиться модель\n",
        "future=future.drop('ex2',axis=1) #удаляем столбцы с экзаменами т.к мы должны научить модель определять результат экзамена\n",
        "future=future.drop('ex3',axis=1) #удаляем все экзамены т.к у них высокая кореляция друг с другом\n"
      ]
    },
    {
      "cell_type": "markdown",
      "metadata": {
        "id": "I6n5tFe3CSx7"
      },
      "source": [
        "Распределяем данны на обучение и тренировку"
      ]
    },
    {
      "cell_type": "code",
      "execution_count": 16,
      "metadata": {
        "id": "TEBSYJPZCSBY",
        "colab": {
          "base_uri": "https://localhost:8080/",
          "height": 165
        },
        "outputId": "31c6d76e-ddba-4304-de28-276feea3c79e"
      },
      "outputs": [
        {
          "output_type": "error",
          "ename": "NameError",
          "evalue": "ignored",
          "traceback": [
            "\u001b[0;31m---------------------------------------------------------------------------\u001b[0m",
            "\u001b[0;31mNameError\u001b[0m                                 Traceback (most recent call last)",
            "\u001b[0;32m<ipython-input-16-a7c1fd4c1c8c>\u001b[0m in \u001b[0;36m<cell line: 1>\u001b[0;34m()\u001b[0m\n\u001b[0;32m----> 1\u001b[0;31m \u001b[0mx_train\u001b[0m\u001b[0;34m,\u001b[0m \u001b[0mx_test\u001b[0m\u001b[0;34m,\u001b[0m \u001b[0my_train\u001b[0m\u001b[0;34m,\u001b[0m \u001b[0my_test\u001b[0m \u001b[0;34m=\u001b[0m \u001b[0mtrain_test_split\u001b[0m\u001b[0;34m(\u001b[0m\u001b[0mfuture\u001b[0m\u001b[0;34m,\u001b[0m \u001b[0mex_1\u001b[0m\u001b[0;34m,\u001b[0m \u001b[0mtest_size\u001b[0m\u001b[0;34m=\u001b[0m\u001b[0;36m0.2\u001b[0m\u001b[0;34m,\u001b[0m \u001b[0mrandom_state\u001b[0m \u001b[0;34m=\u001b[0m \u001b[0;36m10\u001b[0m\u001b[0;34m)\u001b[0m\u001b[0;34m\u001b[0m\u001b[0;34m\u001b[0m\u001b[0m\n\u001b[0m",
            "\u001b[0;31mNameError\u001b[0m: name 'future' is not defined"
          ]
        }
      ],
      "source": [
        "x_train, x_test, y_train, y_test = train_test_split(future, ex_1, test_size=0.2, random_state = 10)"
      ]
    },
    {
      "cell_type": "markdown",
      "source": [
        "Обучаем модель"
      ],
      "metadata": {
        "id": "accAePY4Nb1a"
      }
    },
    {
      "cell_type": "code",
      "source": [
        "model = LinearRegression().fit(x_train,y_train)\n",
        "\n",
        "print('Коэффициент детерминации: ', model.score(x_train,y_train)) #Коэффициент детерминации показывает точность модели\n",
        "print('Коэффициент детерминации тестовые данные: ', model.score(x_test, y_test)) #Кэф для тестовых данных\n",
        "\n",
        "print('Intersept: ', model.intercept_) #Выводим интерсепт\n",
        "pd.DataFrame(data=(model.coef_)*100, index = x_train.columns, columns=['Coef']) #Выводим все коэффиценты в виде таблицы"
      ],
      "metadata": {
        "id": "KJh2HnCwNfB-"
      },
      "execution_count": null,
      "outputs": []
    },
    {
      "cell_type": "markdown",
      "source": [
        "*Эксперимент: Убираем столбцы с небольшими коэффициентами регресси и смотрим на изменение точности обучения модели."
      ],
      "metadata": {
        "id": "DoAgBTD9qOHa"
      }
    },
    {
      "cell_type": "code",
      "source": [
        "future=f.drop('Number',axis=1)\n",
        "future=future.drop('propusk',axis=1)\n",
        "future=future.drop('ex1',axis=1) #удаляем столбец из таблицы, чтобы оставить только те данные на которых будет учиться модель\n",
        "future=future.drop('ex2',axis=1) #удаляем столбцы с экзаменами т.к мы должны научить модель определять результат экзамена\n",
        "future=future.drop('ex3',axis=1)\n",
        "future=future.drop('freeDay_walk', axis=1)\n",
        "future=future.drop('Otin_in_family', axis=1)\n",
        "future=future.drop('workDay_alko', axis=1)"
      ],
      "metadata": {
        "id": "vjJlIIwBLMhj"
      },
      "execution_count": null,
      "outputs": []
    },
    {
      "cell_type": "markdown",
      "source": [
        "Обучаем модель ещё раз"
      ],
      "metadata": {
        "id": "p6A1Q6M9MTwk"
      }
    },
    {
      "cell_type": "code",
      "source": [
        "x_train, x_test, y_train, y_test = train_test_split(future, ex_1, test_size=0.2, random_state = 10) #Раскидываем данные\n",
        "\n",
        "model2 = LinearRegression().fit(x_train,y_train)\n",
        "\n",
        "print('Коэффициент детерминации: ', model2.score(x_train,y_train)) #Коэффициент детерминации показывает точность модели\n",
        "print('Коэффициент детерминации тестовые данные: ', model2.score(x_test, y_test)) #Кэф для тестовых данных\n",
        "\n",
        "print('Intersept: ', model2.intercept_) #Выводим интерсепт\n",
        "pd.DataFrame(data=(model2.coef_)*100, index = x_train.columns, columns=['Coef']) #Выводим все коэффиценты в виде таблицы"
      ],
      "metadata": {
        "id": "JFdQ8T7jMYOI"
      },
      "execution_count": null,
      "outputs": []
    },
    {
      "cell_type": "markdown",
      "source": [
        "*Завершение эксперимента: Точность увеличилась, но лучше делать это через p-value.\n",
        "\n",
        "Точность без сортировки данных: 0.13344226171461748\n",
        "\n",
        "Точность с сортировкой без p-value: 0.11986816597015115"
      ],
      "metadata": {
        "id": "ZvNC775PP5Zv"
      }
    },
    {
      "cell_type": "markdown",
      "source": [
        "Проверим важность данных через функцию p-value\n",
        "\n",
        "P-value - параметр показывающий то, на сколько важен тот или иной параметр в линейной регрессии. Чем больше p-value - тем меньше значимсоть"
      ],
      "metadata": {
        "id": "Fbl-Fv62P-fX"
      }
    },
    {
      "cell_type": "code",
      "source": [
        "x_incl_const = sm.add_constant(x_train)\n",
        "model3 = sm.OLS(y_train, x_incl_const)\n",
        "results = model3.fit()\n",
        "\n",
        "pd.DataFrame({'coef': results.params, 'p-value': round(results.pvalues, 3)}) #Данная функция показывает важность того или иного параметра"
      ],
      "metadata": {
        "id": "gSlVTwzvQC1B"
      },
      "execution_count": null,
      "outputs": []
    },
    {
      "cell_type": "markdown",
      "source": [
        "Попробуем убрать стобцы с низким влиянием"
      ],
      "metadata": {
        "id": "N1zC_YjKSXfC"
      }
    },
    {
      "cell_type": "code",
      "source": [
        "ex_1=f['ex1']\n",
        "fut2=f.drop('Number',axis=1)\n",
        "fut2=fut2.drop('propusk',axis=1)\n",
        "fut2=fut2.drop('ex1',axis=1) #удаляем столбец из таблицы, чтобы оставить только те данные на которых будет учиться модель\n",
        "fut2=fut2.drop('ex2',axis=1) #удаляем столбцы с экзаменами т.к мы должны научить модель определять результат экзамена\n",
        "fut2=fut2.drop('ex3',axis=1)\n",
        "fut2=fut2.drop('freeDay_walk', axis=1)\n",
        "fut2=fut2.drop('Otin_in_family', axis=1)\n",
        "fut2=fut2.drop('workDay_alko', axis=1)"
      ],
      "metadata": {
        "id": "PDDgN1HcSWgy"
      },
      "execution_count": 19,
      "outputs": []
    },
    {
      "cell_type": "code",
      "source": [
        "x_train, x_test, y_train, y_test = train_test_split(fut2, ex_1, test_size=0.2, random_state = 10) #Раскидываем данные\n",
        "\n",
        "model3 = LinearRegression().fit(x_train,y_train)\n",
        "\n",
        "print('Коэффициент детерминации: ', model3.score(x_train,y_train)) #Коэффициент детерминации показывает точность модели\n",
        "print('Коэффициент детерминации тестовые данные: ', model3.score(x_test, y_test)) #Кэф для тестовых данных\n",
        "\n",
        "print('Intersept: ', model3.intercept_) #Выводим интерсепт\n",
        "pd.DataFrame(data=(model3.coef_)*100, index = x_train.columns, columns=['Coef']) #Выводим все коэффиценты в виде таблицы"
      ],
      "metadata": {
        "id": "WtGTwzQSSzQu"
      },
      "execution_count": null,
      "outputs": []
    },
    {
      "cell_type": "markdown",
      "source": [
        "Проверка данных на мультилколлениарность\n",
        "Мультиколлениарность - это показатель того на сколько один параметр зависит от другого"
      ],
      "metadata": {
        "id": "e_EeFej0Vezi"
      }
    },
    {
      "cell_type": "code",
      "source": [
        "f.head()"
      ],
      "metadata": {
        "id": "NdkcigU5Vh65"
      },
      "execution_count": null,
      "outputs": []
    },
    {
      "cell_type": "markdown",
      "source": [
        "VIF - это мера коллинеарности между независимыми переменными в множественной регрессии. Он показывает, как много вариации в объясняемой переменной может быть объяснено данным набором независимых переменных, исключая текущую переменную."
      ],
      "metadata": {
        "id": "tfaIk1S056Ac"
      }
    },
    {
      "cell_type": "code",
      "source": [
        "variance_inflation_factor(exog=x_incl_const.values, exog_idx=1) #Кэф мультиколленираности"
      ],
      "metadata": {
        "colab": {
          "base_uri": "https://localhost:8080/"
        },
        "id": "a64g56Eq4UTe",
        "outputId": "6bfb5f4c-3782-478b-9941-25e6650347fd"
      },
      "execution_count": 31,
      "outputs": [
        {
          "output_type": "execute_result",
          "data": {
            "text/plain": [
              "1.5873227846412148"
            ]
          },
          "metadata": {},
          "execution_count": 31
        }
      ]
    },
    {
      "cell_type": "code",
      "source": [
        "vif = [variance_inflation_factor(exog=x_incl_const.values,exog_idx=i) for i in range(x_incl_const.shape[1])]\n",
        "pd.DataFrame({'coef_name': x_incl_const.columns,'vif': np.around(vif, 2)})"
      ],
      "metadata": {
        "id": "FLqiKSHt5Hda"
      },
      "execution_count": null,
      "outputs": []
    },
    {
      "cell_type": "markdown",
      "source": [
        "Упрости с BIC\n",
        "\n",
        "BIC - показатель того на сколько наша модель простая. В нашем случае у нас линейная регрессия и нам желательно, чтобы модель была простой"
      ],
      "metadata": {
        "id": "xoyUofqZ7jlr"
      }
    },
    {
      "cell_type": "code",
      "source": [
        "x_incl_const = sm.add_constant(x_train)\n",
        "model4 = sm.OLS(y_train, x_incl_const)\n",
        "results = model4.fit()\n",
        "org_coef = pd.DataFrame({'coef': results.params, 'p-value': round(results.pvalues, 3)})\n",
        "print('BIC is', results.bic)\n",
        "print('r-squared is', results.rsquared)\n",
        "#Дальше можно отсортировать данные(выкинуть некоторые столбцы), но мы это уже сделали"
      ],
      "metadata": {
        "colab": {
          "base_uri": "https://localhost:8080/"
        },
        "id": "xtljLxE37VFl",
        "outputId": "c8215080-e089-4abe-ec78-4ce6dd040d6f"
      },
      "execution_count": 40,
      "outputs": [
        {
          "output_type": "stream",
          "name": "stdout",
          "text": [
            "BIC is 1670.7879256854942\n",
            "r-squared is 0.11986816597015126\n"
          ]
        }
      ]
    },
    {
      "cell_type": "markdown",
      "source": [
        "Перейдём к завершающим пунктам\n",
        "\n",
        "Посмотрим на сколько будут отличаться значения, которые предсказала наша модель от значений, которые мы давали на тренировке.\n",
        "\n",
        "Дальше мы будем брать ту разницу между значениями и возводить их в квадрат и суммируем их. По сути находим среднюю квадратическую ошибку \"NSE\""
      ],
      "metadata": {
        "id": "1eCu7GCl9JNJ"
      }
    },
    {
      "cell_type": "code",
      "source": [
        "#Модифицированный, преобразованный и упрощенный вариант\n",
        "ex_1 = np.log(f['ex1']) # Use log prices\n",
        "fut2=f.drop('Number',axis=1)\n",
        "fut2=fut2.drop('propusk',axis=1)\n",
        "fut2=fut2.drop('ex1',axis=1) #удаляем столбец из таблицы, чтобы оставить только те данные на которых будет учиться модель\n",
        "fut2=fut2.drop('ex2',axis=1) #удаляем столбцы с экзаменами т.к мы должны научить модель определять результат экзамена\n",
        "fut2=fut2.drop('ex3',axis=1)\n",
        "fut2=fut2.drop('freeDay_walk', axis=1)\n",
        "fut2=fut2.drop('Otin_in_family', axis=1)\n",
        "fut2=fut2.drop('workDay_alko', axis=1)\n",
        "x_train, x_test, y_train, y_test = train_test_split(fut2, ex_1, test_size=0.2, random_state=10)"
      ],
      "metadata": {
        "id": "j0jkEqqL9jM1"
      },
      "execution_count": 43,
      "outputs": []
    },
    {
      "cell_type": "code",
      "source": [
        "#Использование Statsmodels\n",
        "x_incl_const = sm.add_constant(x_train)\n",
        "model = sm.OLS(y_train, x_incl_const)\n",
        "results = model.fit()"
      ],
      "metadata": {
        "id": "fQsRroLi-aKb"
      },
      "execution_count": 45,
      "outputs": []
    },
    {
      "cell_type": "markdown",
      "source": [
        "Визуализируем"
      ],
      "metadata": {
        "id": "Nohk7QFA_VjA"
      }
    },
    {
      "cell_type": "code",
      "source": [
        "plt.scatter(x=results.fittedvalues, y=results.resid, c='navy', alpha=0.6)\n",
        "\n",
        "plt.xlabel('Predicted 1 log ex_1 $\\hat y _i$', fontsize=14)\n",
        "plt.ylabel('Residuals', fontsize=14)\n",
        "plt.title('Residuals vs Fitted Values', fontsize=17)\n",
        "plt.show()"
      ],
      "metadata": {
        "colab": {
          "base_uri": "https://localhost:8080/",
          "height": 490
        },
        "id": "ewvy5u4E_XXY",
        "outputId": "2f741242-c08e-4685-d2be-8ca3202fb278"
      },
      "execution_count": 49,
      "outputs": [
        {
          "output_type": "display_data",
          "data": {
            "text/plain": [
              "<Figure size 640x480 with 1 Axes>"
            ],
            "image/png": "[encoded data removed]"
          },
          "metadata": {}
        }
      ]
    },
    {
      "cell_type": "markdown",
      "source": [
        "Из рисунка видно, что ошибки не случайны.\n",
        "Это значит, что у нас нет параметров в модели (возможно не стоило удалять некоторые колонки)\n",
        "\n",
        "Далее посмотрим распределние наших ошибок на граффике"
      ],
      "metadata": {
        "id": "z5tpD4KzAQ-u"
      }
    },
    {
      "cell_type": "code",
      "source": [
        "#Distribution of Residuals (log prices) - checking for normality\n",
        "resid_mean = round(results.resid.mean(), 3)\n",
        "resid_skew = round(results.resid.skew(), 3)\n",
        "sns.distplot(results.resid, color='navy')\n",
        "plt.title('log price model: residuals Skew ((resid_skew)) Mean ((resid_mean))')\n",
        "plt.show()"
      ],
      "metadata": {
        "colab": {
          "base_uri": "https://localhost:8080/",
          "height": 643
        },
        "id": "1NktOXcRAfcy",
        "outputId": "4dbb00e8-1601-4858-9cd7-70aeaeea1bd7"
      },
      "execution_count": 50,
      "outputs": [
        {
          "output_type": "stream",
          "name": "stderr",
          "text": [
            "<ipython-input-50-2d869ed80a4e>:4: UserWarning: \n",
            "\n",
            "`distplot` is a deprecated function and will be removed in seaborn v0.14.0.\n",
            "\n",
            "Please adapt your code to use either `displot` (a figure-level function with\n",
            "similar flexibility) or `histplot` (an axes-level function for histograms).\n",
            "\n",
            "For a guide to updating your code to use the new functions, please see\n",
            "https://gist.github.com/mwaskom/de44147ed2974457ad6372750bbe5751\n",
            "\n",
            "  sns.distplot(results.resid, color='navy')\n"
          ]
        },
        {
          "output_type": "display_data",
          "data": {
            "text/plain": [
              "<Figure size 640x480 with 1 Axes>"
            ],
            "image/png": "[encoded data removed]"
          },
          "metadata": {}
        }
      ]
    },
    {
      "cell_type": "markdown",
      "source": [
        "Из граффика видно, что наши ошибки подчиняются закону нормального распределения и это просто отлично. Хоть что-то хорошее...\n",
        "\n",
        "Т.к наши ошибки подчинаются закону нормального распределния, то мы можем в дальнейшем использовать нашу среднеквадратическую ошибку не только для того, чтобы давать предсказания, а давать вероятность получения оценки за экзамен в определённом интервале с определённой вероятностью.\n",
        "\n",
        "Если наши данные не подчинаются закону нормального распределния, то их можно невелировать (Напрмиер взять от каждого значения логорифм, чтобы +- их сравнять)"
      ],
      "metadata": {
        "id": "KUmlNjMHAw23"
      }
    },
    {
      "cell_type": "code",
      "source": [
        "# Наша ошибка попадет в интервал в точность 958\n",
        "# Mean Squared Error & R-Squared\n",
        "reduced_log_mse = round(results.mse_resid, 3) #Считаем среднеквадратическую всех наших ошибок и округляем до 3\n",
        "print('2 CКО в логарифмаx', 2*np.sqrt(reduced_log_mse)) #Достаём из него корень и получаем так стандартное отклонение(сигму)\n",
        "#И считаем 2 таких СКО в логорифмах\n",
        "\n",
        "upper_bound = np.log(0.0019) + 2*np.sqrt(reduced_log_mse)\n",
        "print('The upper bound in normal estimation ', np.e**upper_bound * 1000)\n",
        "\n",
        "lower_bound = np.log(0.0019) - 2*np.sqrt(reduced_log_mse)\n",
        "print('The lower bound in normal estimation ', np.e**lower_bound * 1000)"
      ],
      "metadata": {
        "colab": {
          "base_uri": "https://localhost:8080/"
        },
        "id": "eONIzNU8A6aI",
        "outputId": "29be6bef-20e9-445a-e080-77e501c79210"
      },
      "execution_count": 58,
      "outputs": [
        {
          "output_type": "stream",
          "name": "stdout",
          "text": [
            "2 CКО в логарифмаx 0.6260990336999411\n",
            "The upper bound in normal estimation  3.5535706676914325\n",
            "The lower bound in normal estimation  1.015879614502004\n"
          ]
        }
      ]
    },
    {
      "cell_type": "markdown",
      "source": [
        "Псоледняя ячейка - интересная тема, но я не понял, как это интерпретировать под нашу таблицу, но это в целом и не нужно"
      ],
      "metadata": {
        "id": "93a0byHbD7NU"
      }
    }
  ],
  "metadata": {
    "colab": {
      "provenance": [],
      "authorship_tag": "ABX9TyPxUz/2tnCd+4zQWRos0MFB",
      "include_colab_link": true
    },
    "kernelspec": {
      "display_name": "Python 3",
      "name": "python3"
    },
    "language_info": {
      "name": "python"
    }
  },
  "nbformat": 4,
  "nbformat_minor": 0
}